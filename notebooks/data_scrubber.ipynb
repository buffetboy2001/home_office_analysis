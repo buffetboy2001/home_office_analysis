{
 "cells": [
  {
   "cell_type": "markdown",
   "metadata": {},
   "source": [
    "# Data Scrubber\n",
    "\n",
    "Load the CSV data from `../data/raw` and clean it for processing. Cleaned data will be stored in `../data/clean`."
   ]
  },
  {
   "cell_type": "markdown",
   "metadata": {},
   "source": [
    "TODO:\n",
    "\n",
    "* Jan 2020: Still getting clearly erroneous time stamps that go backward in time. Need to filter these out.\n",
    "* Jan 2020: I started receiving CSV data from Govee that contained extra columns. See `office_interior_export202001131740.csv`  :( \n",
    "* Jan 2020: I started receiving CSV data from Govee that contained non-physical humidity level changes. Need to filter these out.\n",
    "* Mar 2020: I should also load the clean data and use that as the first filter for stuff I shouldn't load. That way I stop loading all the old files. Probably reverse iterate over the glob."
   ]
  },
  {
   "cell_type": "code",
   "execution_count": 1,
   "metadata": {},
   "outputs": [],
   "source": [
    "import os\n",
    "import glob\n",
    "import pandas as pd\n",
    "import util\n",
    "import datetime as dt\n",
    "import numpy as np"
   ]
  },
  {
   "cell_type": "code",
   "execution_count": 2,
   "metadata": {},
   "outputs": [],
   "source": [
    "cur_dir = os.getcwd()\n",
    "exterior_files = glob.glob(cur_dir.replace('notebooks','data/raw/*exterior*'))\n",
    "interior_files = glob.glob(cur_dir.replace('notebooks','data/raw/*interior*'))"
   ]
  },
  {
   "cell_type": "code",
   "execution_count": 3,
   "metadata": {},
   "outputs": [],
   "source": [
    "govee_columns = ['Timestamp for sample frequency every 1 min', \n",
    "                 'Temperature_Celsius', \n",
    "                 'Relative_Humidity']\n",
    "\n",
    "def combine_no_time_duplicates(files_glob):\n",
    "    all_data = pd.DataFrame(columns=govee_columns)\n",
    "    for f in files_glob:\n",
    "        data = pd.read_csv(f, warn_bad_lines=True, error_bad_lines=False)\n",
    "        data.set_index(keys=govee_columns[0])\n",
    "        all_data = pd.concat([all_data, data], \n",
    "                             ignore_index=True,\n",
    "                             join='inner',\n",
    "                             copy=True,\n",
    "                             sort=True)\n",
    "\n",
    "    all_data[govee_columns[0]] = pd.to_datetime(all_data[govee_columns[0]], format=\"%Y-%m-%d %H:%M:%S\", errors='coerce')\n",
    "       \n",
    "    return all_data"
   ]
  },
  {
   "cell_type": "code",
   "execution_count": 4,
   "metadata": {},
   "outputs": [
    {
     "name": "stderr",
     "output_type": "stream",
     "text": [
      "b'Skipping line 7137: expected 3 fields, saw 5\\n'\n",
      "b'Skipping line 20053: expected 3 fields, saw 5\\nSkipping line 23465: expected 3 fields, saw 5\\n'\n"
     ]
    }
   ],
   "source": [
    "all_exterior_data = combine_no_time_duplicates(exterior_files)\n",
    "all_exterior_data['location'] = util.Locations.EXTERIOR.value\n",
    "# all_exterior_data.to_csv('../data/clean/exterior.data.csv')\n",
    "\n",
    "all_interior_data = combine_no_time_duplicates(interior_files)\n",
    "all_interior_data['location'] = util.Locations.INTERIOR.value\n",
    "# all_interior_data.to_csv('../data/clean/interior.data.csv')\n"
   ]
  },
  {
   "cell_type": "code",
   "execution_count": 5,
   "metadata": {},
   "outputs": [],
   "source": [
    "# combine into one\n",
    "all_data = pd.concat([all_exterior_data, all_interior_data])\n",
    "all_data.rename(columns={govee_columns[0]: \"timestamp\", govee_columns[1]: str(govee_columns[1]).lower(), govee_columns[2]: str(govee_columns[2]).lower()},\n",
    "                inplace=True)"
   ]
  },
  {
   "cell_type": "markdown",
   "metadata": {},
   "source": [
    "I've noticed invalid data coming from `Govee` and this needs to be handled. First, get a view of the bad data. Anything prior to Nov 9, 2019 is before I owned the device so we know that data must be invalid.\n",
    "\n",
    "What's up with this, `Govee`?"
   ]
  },
  {
   "cell_type": "code",
   "execution_count": 6,
   "metadata": {},
   "outputs": [
    {
     "data": {
      "text/html": [
       "<div>\n",
       "<style scoped>\n",
       "    .dataframe tbody tr th:only-of-type {\n",
       "        vertical-align: middle;\n",
       "    }\n",
       "\n",
       "    .dataframe tbody tr th {\n",
       "        vertical-align: top;\n",
       "    }\n",
       "\n",
       "    .dataframe thead th {\n",
       "        text-align: right;\n",
       "    }\n",
       "</style>\n",
       "<table border=\"1\" class=\"dataframe\">\n",
       "  <thead>\n",
       "    <tr style=\"text-align: right;\">\n",
       "      <th></th>\n",
       "      <th>relative_humidity</th>\n",
       "      <th>temperature_celsius</th>\n",
       "      <th>timestamp</th>\n",
       "      <th>location</th>\n",
       "    </tr>\n",
       "  </thead>\n",
       "  <tbody>\n",
       "    <tr>\n",
       "      <th>2130</th>\n",
       "      <td>77.7</td>\n",
       "      <td>4.3</td>\n",
       "      <td>2019-01-11 01:47:00</td>\n",
       "      <td>1</td>\n",
       "    </tr>\n",
       "    <tr>\n",
       "      <th>8153</th>\n",
       "      <td>51.6</td>\n",
       "      <td>-6.3</td>\n",
       "      <td>2019-11-01 04:26:00</td>\n",
       "      <td>2</td>\n",
       "    </tr>\n",
       "    <tr>\n",
       "      <th>24166</th>\n",
       "      <td>64.6</td>\n",
       "      <td>5.3</td>\n",
       "      <td>2019-11-02 09:53:00</td>\n",
       "      <td>2</td>\n",
       "    </tr>\n",
       "    <tr>\n",
       "      <th>52725</th>\n",
       "      <td>57.5</td>\n",
       "      <td>-1.1</td>\n",
       "      <td>2019-01-08 05:48:00</td>\n",
       "      <td>2</td>\n",
       "    </tr>\n",
       "    <tr>\n",
       "      <th>63792</th>\n",
       "      <td>62.2</td>\n",
       "      <td>5.6</td>\n",
       "      <td>2019-01-15 22:15:00</td>\n",
       "      <td>2</td>\n",
       "    </tr>\n",
       "  </tbody>\n",
       "</table>\n",
       "</div>"
      ],
      "text/plain": [
       "       relative_humidity temperature_celsius           timestamp  location\n",
       "2130                77.7                 4.3 2019-01-11 01:47:00         1\n",
       "8153                51.6                -6.3 2019-11-01 04:26:00         2\n",
       "24166               64.6                 5.3 2019-11-02 09:53:00         2\n",
       "52725               57.5                -1.1 2019-01-08 05:48:00         2\n",
       "63792               62.2                 5.6 2019-01-15 22:15:00         2"
      ]
     },
     "execution_count": 6,
     "metadata": {},
     "output_type": "execute_result"
    }
   ],
   "source": [
    "# invalidate any data points prior to a certain date/time\n",
    "invalid_prior_to = dt.datetime(year=2019, month=11, day=9, hour=15, minute=0)\n",
    "bad_data = all_data[all_data.timestamp < invalid_prior_to]\n",
    "bad_data"
   ]
  },
  {
   "cell_type": "markdown",
   "metadata": {},
   "source": [
    "Now apply the timestamp filter to remove anamalous data."
   ]
  },
  {
   "cell_type": "code",
   "execution_count": 7,
   "metadata": {},
   "outputs": [],
   "source": [
    "strip_prior_to = dt.datetime(year=2019, month=11, day=9, hour=15, minute=30)\n",
    "all_data = all_data[all_data.timestamp>=strip_prior_to]"
   ]
  },
  {
   "cell_type": "code",
   "execution_count": 8,
   "metadata": {},
   "outputs": [],
   "source": [
    "timestamp_diff_threshold = dt.timedelta(minutes=5.0)\n",
    "# above_threshold_series = all_data[govee_columns[0]].diff() > timestamp_diff_threshold \n",
    "# all_data.drop(above_threshold_series.index)\n"
   ]
  },
  {
   "cell_type": "markdown",
   "metadata": {},
   "source": [
    "# Write Clean Data"
   ]
  },
  {
   "cell_type": "code",
   "execution_count": 9,
   "metadata": {},
   "outputs": [],
   "source": [
    "all_data.to_csv('../data/clean/sensor_data.csv', index=False)"
   ]
  },
  {
   "cell_type": "code",
   "execution_count": 10,
   "metadata": {},
   "outputs": [
    {
     "data": {
      "text/plain": [
       "['sensor_data.csv']"
      ]
     },
     "execution_count": 10,
     "metadata": {},
     "output_type": "execute_result"
    }
   ],
   "source": [
    "os.listdir('../data/clean/')"
   ]
  },
  {
   "cell_type": "code",
   "execution_count": 11,
   "metadata": {},
   "outputs": [
    {
     "data": {
      "text/html": [
       "<div>\n",
       "<style scoped>\n",
       "    .dataframe tbody tr th:only-of-type {\n",
       "        vertical-align: middle;\n",
       "    }\n",
       "\n",
       "    .dataframe tbody tr th {\n",
       "        vertical-align: top;\n",
       "    }\n",
       "\n",
       "    .dataframe thead th {\n",
       "        text-align: right;\n",
       "    }\n",
       "</style>\n",
       "<table border=\"1\" class=\"dataframe\">\n",
       "  <thead>\n",
       "    <tr style=\"text-align: right;\">\n",
       "      <th></th>\n",
       "      <th>relative_humidity</th>\n",
       "      <th>temperature_celsius</th>\n",
       "      <th>timestamp</th>\n",
       "      <th>location</th>\n",
       "    </tr>\n",
       "  </thead>\n",
       "  <tbody>\n",
       "    <tr>\n",
       "      <th>30</th>\n",
       "      <td>36.4</td>\n",
       "      <td>7.6</td>\n",
       "      <td>2019-11-09 15:30:00</td>\n",
       "      <td>1</td>\n",
       "    </tr>\n",
       "    <tr>\n",
       "      <th>31</th>\n",
       "      <td>36.5</td>\n",
       "      <td>7.6</td>\n",
       "      <td>2019-11-09 15:31:00</td>\n",
       "      <td>1</td>\n",
       "    </tr>\n",
       "    <tr>\n",
       "      <th>32</th>\n",
       "      <td>36.8</td>\n",
       "      <td>7.6</td>\n",
       "      <td>2019-11-09 15:32:00</td>\n",
       "      <td>1</td>\n",
       "    </tr>\n",
       "    <tr>\n",
       "      <th>33</th>\n",
       "      <td>36.9</td>\n",
       "      <td>7.6</td>\n",
       "      <td>2019-11-09 15:33:00</td>\n",
       "      <td>1</td>\n",
       "    </tr>\n",
       "    <tr>\n",
       "      <th>34</th>\n",
       "      <td>37.6</td>\n",
       "      <td>7.6</td>\n",
       "      <td>2019-11-09 15:34:00</td>\n",
       "      <td>1</td>\n",
       "    </tr>\n",
       "  </tbody>\n",
       "</table>\n",
       "</div>"
      ],
      "text/plain": [
       "    relative_humidity temperature_celsius           timestamp  location\n",
       "30               36.4                 7.6 2019-11-09 15:30:00         1\n",
       "31               36.5                 7.6 2019-11-09 15:31:00         1\n",
       "32               36.8                 7.6 2019-11-09 15:32:00         1\n",
       "33               36.9                 7.6 2019-11-09 15:33:00         1\n",
       "34               37.6                 7.6 2019-11-09 15:34:00         1"
      ]
     },
     "execution_count": 11,
     "metadata": {},
     "output_type": "execute_result"
    }
   ],
   "source": [
    "all_data.head()"
   ]
  },
  {
   "cell_type": "code",
   "execution_count": null,
   "metadata": {},
   "outputs": [],
   "source": []
  }
 ],
 "metadata": {
  "kernelspec": {
   "display_name": "Python 3",
   "language": "python",
   "name": "python3"
  },
  "language_info": {
   "codemirror_mode": {
    "name": "ipython",
    "version": 3
   },
   "file_extension": ".py",
   "mimetype": "text/x-python",
   "name": "python",
   "nbconvert_exporter": "python",
   "pygments_lexer": "ipython3",
   "version": "3.7.4"
  }
 },
 "nbformat": 4,
 "nbformat_minor": 4
}
