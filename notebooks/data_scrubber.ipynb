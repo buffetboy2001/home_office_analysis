{
 "cells": [
  {
   "cell_type": "markdown",
   "metadata": {},
   "source": [
    "# Data Scrubber\n",
    "\n",
    "Load the CSV data from `../data/raw` and clean it for processing. Cleaned data will be stored in `../data/clean`."
   ]
  },
  {
   "cell_type": "code",
   "execution_count": 10,
   "metadata": {},
   "outputs": [],
   "source": [
    "import os\n",
    "import glob\n",
    "import pandas as pd\n",
    "import util"
   ]
  },
  {
   "cell_type": "code",
   "execution_count": 11,
   "metadata": {},
   "outputs": [],
   "source": [
    "cur_dir = os.getcwd()\n",
    "exterior_files = glob.glob(cur_dir.replace('notebooks','data/raw/*exterior*'))\n",
    "interior_files = glob.glob(cur_dir.replace('notebooks','data/raw/*interior*'))"
   ]
  },
  {
   "cell_type": "code",
   "execution_count": 12,
   "metadata": {},
   "outputs": [],
   "source": [
    "govee_columns = ['Timestamp for sample frequency every 1 min', \n",
    "                 'Temperature_Celsius', \n",
    "                 'Relative_Humidity']\n",
    "def combine_no_time_duplicates(files_glob):\n",
    "    all_data = pd.DataFrame(columns=govee_columns)\n",
    "    for f in files_glob:\n",
    "        data = pd.read_csv(f)\n",
    "        data.set_index(keys=govee_columns[0])\n",
    "        all_data = pd.concat([all_data, data], \n",
    "                             ignore_index=True,\n",
    "                             join='inner',\n",
    "                             copy=True,\n",
    "                             sort=True)\n",
    "\n",
    "    all_data[govee_columns[0]] = pd.to_datetime(all_data[govee_columns[0]], format=\"%Y-%m-%d %H:%M:%S\")\n",
    "        \n",
    "    return all_data"
   ]
  },
  {
   "cell_type": "code",
   "execution_count": 13,
   "metadata": {},
   "outputs": [],
   "source": [
    "all_exterior_data = combine_no_time_duplicates(exterior_files)\n",
    "all_exterior_data['location'] = util.Locations.EXTERIOR.value\n",
    "all_exterior_data.to_csv('../data/clean/exterior.data.csv')\n",
    "\n",
    "all_interior_data = combine_no_time_duplicates(interior_files)\n",
    "all_interior_data['location'] = util.Locations.INTERIOR.value\n",
    "all_interior_data.to_csv('../data/clean/interior.data.csv')\n"
   ]
  },
  {
   "cell_type": "code",
   "execution_count": 14,
   "metadata": {},
   "outputs": [],
   "source": [
    "# combine into one\n",
    "all_data = pd.concat([all_exterior_data, all_interior_data])\n",
    "all_data.rename(columns={govee_columns[0]: \"timestamp\", govee_columns[1]: str(govee_columns[1]).lower(), govee_columns[2]: str(govee_columns[2]).lower()},\n",
    "                inplace=True)"
   ]
  },
  {
   "cell_type": "markdown",
   "metadata": {},
   "source": [
    "# Write Clean Data"
   ]
  },
  {
   "cell_type": "code",
   "execution_count": 15,
   "metadata": {},
   "outputs": [],
   "source": [
    "all_data.to_csv('../data/clean/sensor_data.csv', index=False)"
   ]
  },
  {
   "cell_type": "code",
   "execution_count": 16,
   "metadata": {},
   "outputs": [
    {
     "data": {
      "text/plain": [
       "['exterior.data.csv', 'interior.data.csv', 'sensor_data.csv']"
      ]
     },
     "execution_count": 16,
     "metadata": {},
     "output_type": "execute_result"
    }
   ],
   "source": [
    "os.listdir('../data/clean/')"
   ]
  },
  {
   "cell_type": "code",
   "execution_count": null,
   "metadata": {},
   "outputs": [],
   "source": []
  }
 ],
 "metadata": {
  "kernelspec": {
   "display_name": "Python 3",
   "language": "python",
   "name": "python3"
  },
  "language_info": {
   "codemirror_mode": {
    "name": "ipython",
    "version": 3
   },
   "file_extension": ".py",
   "mimetype": "text/x-python",
   "name": "python",
   "nbconvert_exporter": "python",
   "pygments_lexer": "ipython3",
   "version": "3.7.4"
  }
 },
 "nbformat": 4,
 "nbformat_minor": 4
}
