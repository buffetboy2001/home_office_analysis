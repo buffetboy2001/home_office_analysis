{
 "cells": [
  {
   "cell_type": "markdown",
   "metadata": {},
   "source": [
    "# Data Scrubber\n",
    "\n",
    "Load the CSV data from `../data/raw` and clean it for processing. Cleaned data will be stored in `../data/clean`."
   ]
  },
  {
   "cell_type": "code",
   "execution_count": 5,
   "metadata": {},
   "outputs": [],
   "source": [
    "import os\n",
    "import glob\n",
    "import pandas as pd\n",
    "import util\n",
    "import datetime as dt\n",
    "import numpy as np"
   ]
  },
  {
   "cell_type": "code",
   "execution_count": 6,
   "metadata": {},
   "outputs": [],
   "source": [
    "cur_dir = os.getcwd()\n",
    "exterior_files = glob.glob(cur_dir.replace('notebooks','data/raw/*exterior*'))\n",
    "interior_files = glob.glob(cur_dir.replace('notebooks','data/raw/*interior*'))"
   ]
  },
  {
   "cell_type": "code",
   "execution_count": 7,
   "metadata": {},
   "outputs": [],
   "source": [
    "govee_columns = ['Timestamp for sample frequency every 1 min', \n",
    "                 'Temperature_Celsius', \n",
    "                 'Relative_Humidity']\n",
    "def combine_no_time_duplicates(files_glob):\n",
    "    all_data = pd.DataFrame(columns=govee_columns)\n",
    "    for f in files_glob:\n",
    "        data = pd.read_csv(f)\n",
    "        data.set_index(keys=govee_columns[0])\n",
    "        all_data = pd.concat([all_data, data], \n",
    "                             ignore_index=True,\n",
    "                             join='inner',\n",
    "                             copy=True,\n",
    "                             sort=True)\n",
    "\n",
    "    all_data[govee_columns[0]] = pd.to_datetime(all_data[govee_columns[0]], format=\"%Y-%m-%d %H:%M:%S\")\n",
    "        \n",
    "    return all_data"
   ]
  },
  {
   "cell_type": "code",
   "execution_count": 8,
   "metadata": {},
   "outputs": [],
   "source": [
    "all_exterior_data = combine_no_time_duplicates(exterior_files)\n",
    "all_exterior_data['location'] = util.Locations.EXTERIOR.value\n",
    "# all_exterior_data.to_csv('../data/clean/exterior.data.csv')\n",
    "\n",
    "all_interior_data = combine_no_time_duplicates(interior_files)\n",
    "all_interior_data['location'] = util.Locations.INTERIOR.value\n",
    "# all_interior_data.to_csv('../data/clean/interior.data.csv')\n"
   ]
  },
  {
   "cell_type": "code",
   "execution_count": 9,
   "metadata": {},
   "outputs": [],
   "source": [
    "# combine into one\n",
    "all_data = pd.concat([all_exterior_data, all_interior_data])\n",
    "all_data.rename(columns={govee_columns[0]: \"timestamp\", govee_columns[1]: str(govee_columns[1]).lower(), govee_columns[2]: str(govee_columns[2]).lower()},\n",
    "                inplace=True)"
   ]
  },
  {
   "cell_type": "code",
   "execution_count": 10,
   "metadata": {},
   "outputs": [],
   "source": [
    "# invalidate any data points prior to a certain date/time\n",
    "invalid_prior_to = dt.datetime(year=2019, month=11, day=9, hour=15, minute=30)\n",
    "all_data = all_data[all_data.timestamp>=invalid_prior_to]"
   ]
  },
  {
   "cell_type": "markdown",
   "metadata": {},
   "source": [
    "# Write Clean Data"
   ]
  },
  {
   "cell_type": "code",
   "execution_count": 11,
   "metadata": {},
   "outputs": [],
   "source": [
    "all_data.to_csv('../data/clean/sensor_data.csv', index=False)"
   ]
  },
  {
   "cell_type": "code",
   "execution_count": 12,
   "metadata": {},
   "outputs": [
    {
     "data": {
      "text/plain": [
       "['exterior.data.csv', 'interior.data.csv', 'sensor_data.csv']"
      ]
     },
     "execution_count": 12,
     "metadata": {},
     "output_type": "execute_result"
    }
   ],
   "source": [
    "os.listdir('../data/clean/')"
   ]
  },
  {
   "cell_type": "code",
   "execution_count": 13,
   "metadata": {},
   "outputs": [
    {
     "data": {
      "text/html": [
       "<div>\n",
       "<style scoped>\n",
       "    .dataframe tbody tr th:only-of-type {\n",
       "        vertical-align: middle;\n",
       "    }\n",
       "\n",
       "    .dataframe tbody tr th {\n",
       "        vertical-align: top;\n",
       "    }\n",
       "\n",
       "    .dataframe thead th {\n",
       "        text-align: right;\n",
       "    }\n",
       "</style>\n",
       "<table border=\"1\" class=\"dataframe\">\n",
       "  <thead>\n",
       "    <tr style=\"text-align: right;\">\n",
       "      <th></th>\n",
       "      <th>relative_humidity</th>\n",
       "      <th>temperature_celsius</th>\n",
       "      <th>timestamp</th>\n",
       "      <th>location</th>\n",
       "    </tr>\n",
       "  </thead>\n",
       "  <tbody>\n",
       "    <tr>\n",
       "      <th>30</th>\n",
       "      <td>36.4</td>\n",
       "      <td>7.6</td>\n",
       "      <td>2019-11-09 15:30:00</td>\n",
       "      <td>1</td>\n",
       "    </tr>\n",
       "    <tr>\n",
       "      <th>31</th>\n",
       "      <td>36.5</td>\n",
       "      <td>7.6</td>\n",
       "      <td>2019-11-09 15:31:00</td>\n",
       "      <td>1</td>\n",
       "    </tr>\n",
       "    <tr>\n",
       "      <th>32</th>\n",
       "      <td>36.8</td>\n",
       "      <td>7.6</td>\n",
       "      <td>2019-11-09 15:32:00</td>\n",
       "      <td>1</td>\n",
       "    </tr>\n",
       "    <tr>\n",
       "      <th>33</th>\n",
       "      <td>36.9</td>\n",
       "      <td>7.6</td>\n",
       "      <td>2019-11-09 15:33:00</td>\n",
       "      <td>1</td>\n",
       "    </tr>\n",
       "    <tr>\n",
       "      <th>34</th>\n",
       "      <td>37.6</td>\n",
       "      <td>7.6</td>\n",
       "      <td>2019-11-09 15:34:00</td>\n",
       "      <td>1</td>\n",
       "    </tr>\n",
       "  </tbody>\n",
       "</table>\n",
       "</div>"
      ],
      "text/plain": [
       "    relative_humidity  temperature_celsius           timestamp  location\n",
       "30               36.4                  7.6 2019-11-09 15:30:00         1\n",
       "31               36.5                  7.6 2019-11-09 15:31:00         1\n",
       "32               36.8                  7.6 2019-11-09 15:32:00         1\n",
       "33               36.9                  7.6 2019-11-09 15:33:00         1\n",
       "34               37.6                  7.6 2019-11-09 15:34:00         1"
      ]
     },
     "execution_count": 13,
     "metadata": {},
     "output_type": "execute_result"
    }
   ],
   "source": [
    "all_data.head()"
   ]
  },
  {
   "cell_type": "code",
   "execution_count": null,
   "metadata": {},
   "outputs": [],
   "source": []
  }
 ],
 "metadata": {
  "kernelspec": {
   "display_name": "Python 3",
   "language": "python",
   "name": "python3"
  },
  "language_info": {
   "codemirror_mode": {
    "name": "ipython",
    "version": 3
   },
   "file_extension": ".py",
   "mimetype": "text/x-python",
   "name": "python",
   "nbconvert_exporter": "python",
   "pygments_lexer": "ipython3",
   "version": "3.7.4"
  }
 },
 "nbformat": 4,
 "nbformat_minor": 4
}
